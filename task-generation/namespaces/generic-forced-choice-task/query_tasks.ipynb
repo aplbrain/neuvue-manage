{
 "cells": [
  {
   "cell_type": "code",
   "execution_count": 1,
   "id": "96a2b0b9-e9a1-47e6-9dd9-534843610f14",
   "metadata": {},
   "outputs": [],
   "source": [
    "from pathlib import Path\n",
    "import json\n",
    "import sys\n",
    "\n",
    "from neuvueclient import NeuvueQueue\n",
    "import pandas as pd\n",
    "import numpy as np\n",
    "from joblib import Parallel, delayed\n",
    "\n",
    "sys.path.append(str(Path.cwd().parents[1]))\n",
    "from utils.constants import NEUVUE_QUEUE_URL"
   ]
  },
  {
   "cell_type": "markdown",
   "id": "ab634e02-ea3f-4e73-bba8-d5fe14b7fa37",
   "metadata": {},
   "source": [
    "# Query Task Notebook"
   ]
  },
  {
   "cell_type": "markdown",
   "id": "5ed994e1-419f-4813-9439-093f1e96a329",
   "metadata": {},
   "source": [
    "This notebook shows a couple examples of how to use the client to query task data and retrieve completed tasks for downstream processing."
   ]
  },
  {
   "cell_type": "code",
   "execution_count": 2,
   "id": "1c3e793b-3a3d-4b8b-9cba-c9048b072dbd",
   "metadata": {},
   "outputs": [
    {
     "name": "stdout",
     "output_type": "stream",
     "text": [
      "Auth method: Config File\n"
     ]
    }
   ],
   "source": [
    "client = NeuvueQueue(NEUVUE_QUEUE_URL)"
   ]
  },
  {
   "cell_type": "code",
   "execution_count": 3,
   "id": "3178ec22-ff2a-498f-8752-2377847ab369",
   "metadata": {},
   "outputs": [],
   "source": [
    "AUTHOR = \"dxenes1\"\n",
    "NAMESPACE = \"forcedChoiceExample\"\n",
    "ASSIGNEES = [\"dxenes1\"]\n",
    "INSTRUCTIONS = {\"prompt\": \"Is the selected seg ID a multi-soma? (two valid neurons merged together)\"}"
   ]
  },
  {
   "cell_type": "markdown",
   "id": "9aa7ef7c-f92c-451b-ad16-160a8f4c6ff1",
   "metadata": {},
   "source": [
    "Lets say in this case I want to get the tasks that user `dxenes1` has completed in the Forced Choice Example namespace. I want to examine the decisions they've made in each of there tasks."
   ]
  },
  {
   "cell_type": "code",
   "execution_count": 4,
   "id": "6c611a2e-36e1-4b6b-8bac-3b7c828277e0",
   "metadata": {},
   "outputs": [
    {
     "name": "stdout",
     "output_type": "stream",
     "text": [
      "3.44\n"
     ]
    }
   ],
   "source": [
    "import time \n",
    "start = time.time()\n",
    "tasks = client.get_tasks(sieve={\n",
    "    'assignee':'dxenes1',\n",
    "    'status':'closed',\n",
    "    'namespace':'forcedChoiceExample'\n",
    "})\n",
    "print(round(time.time() - start, 2))"
   ]
  },
  {
   "cell_type": "markdown",
   "id": "4fb54ee8-18ce-4571-a8bd-82bb25518d66",
   "metadata": {},
   "source": [
    "The above query will give me ALL of the information for the tasks that fit the criteria established in the sieve. It takes a while to grab the tasks because it also converts the JSON state links into JSON strings automatically. I can disable that to get a faster query.\n"
   ]
  },
  {
   "cell_type": "code",
   "execution_count": 5,
   "id": "1eb824a3-7ec7-43db-ab81-abcb727929e4",
   "metadata": {},
   "outputs": [
    {
     "name": "stdout",
     "output_type": "stream",
     "text": [
      "0.54\n"
     ]
    }
   ],
   "source": [
    "start = time.time()\n",
    "tasks = client.get_tasks(sieve={\n",
    "    'assignee':'dxenes1',\n",
    "    'status':'closed',\n",
    "    'namespace':'forcedChoiceExample'\n",
    "}, convert_states_to_json=False)\n",
    "print(round(time.time() - start, 2))"
   ]
  },
  {
   "cell_type": "code",
   "execution_count": 6,
   "id": "798ce741-3836-4f8a-bb91-66fc914b1444",
   "metadata": {},
   "outputs": [
    {
     "data": {
      "text/html": [
       "<div>\n",
       "<style scoped>\n",
       "    .dataframe tbody tr th:only-of-type {\n",
       "        vertical-align: middle;\n",
       "    }\n",
       "\n",
       "    .dataframe tbody tr th {\n",
       "        vertical-align: top;\n",
       "    }\n",
       "\n",
       "    .dataframe thead th {\n",
       "        text-align: right;\n",
       "    }\n",
       "</style>\n",
       "<table border=\"1\" class=\"dataframe\">\n",
       "  <thead>\n",
       "    <tr style=\"text-align: right;\">\n",
       "      <th></th>\n",
       "      <th>active</th>\n",
       "      <th>assignee</th>\n",
       "      <th>author</th>\n",
       "      <th>closed</th>\n",
       "      <th>created</th>\n",
       "      <th>instructions</th>\n",
       "      <th>metadata</th>\n",
       "      <th>namespace</th>\n",
       "      <th>opened</th>\n",
       "      <th>priority</th>\n",
       "      <th>duration</th>\n",
       "      <th>status</th>\n",
       "      <th>seg_id</th>\n",
       "      <th>ng_state</th>\n",
       "      <th>points</th>\n",
       "      <th>tags</th>\n",
       "      <th>__v</th>\n",
       "    </tr>\n",
       "    <tr>\n",
       "      <th>_id</th>\n",
       "      <th></th>\n",
       "      <th></th>\n",
       "      <th></th>\n",
       "      <th></th>\n",
       "      <th></th>\n",
       "      <th></th>\n",
       "      <th></th>\n",
       "      <th></th>\n",
       "      <th></th>\n",
       "      <th></th>\n",
       "      <th></th>\n",
       "      <th></th>\n",
       "      <th></th>\n",
       "      <th></th>\n",
       "      <th></th>\n",
       "      <th></th>\n",
       "      <th></th>\n",
       "    </tr>\n",
       "  </thead>\n",
       "  <tbody>\n",
       "    <tr>\n",
       "      <th>65e225bdd4cc5f67dd8fb954</th>\n",
       "      <td>True</td>\n",
       "      <td>dxenes1</td>\n",
       "      <td>dxenes1</td>\n",
       "      <td>2024-03-01 19:52:58.603</td>\n",
       "      <td>2024-03-01 19:00:12.823</td>\n",
       "      <td>{'prompt': 'Is the selected seg ID a multi-som...</td>\n",
       "      <td>{'nuclei': [531788, 525961, 528862, 528334, 52...</td>\n",
       "      <td>forcedChoiceExample</td>\n",
       "      <td>2024-03-01 19:08:28.407</td>\n",
       "      <td>1000</td>\n",
       "      <td>93</td>\n",
       "      <td>closed</td>\n",
       "      <td>864691135968943973</td>\n",
       "      <td>https://global.daf-apis.com/nglstate/api/v1/57...</td>\n",
       "      <td>None</td>\n",
       "      <td>None</td>\n",
       "      <td>0</td>\n",
       "    </tr>\n",
       "    <tr>\n",
       "      <th>65e225bdd4cc5f67dd8fb957</th>\n",
       "      <td>True</td>\n",
       "      <td>dxenes1</td>\n",
       "      <td>dxenes1</td>\n",
       "      <td>2024-03-01 19:53:10.116</td>\n",
       "      <td>2024-03-01 19:00:13.235</td>\n",
       "      <td>{'prompt': 'Is the selected seg ID a multi-som...</td>\n",
       "      <td>{'nuclei': [198054, 198124, 198037, 198128, 19...</td>\n",
       "      <td>forcedChoiceExample</td>\n",
       "      <td>2024-03-01 19:52:59.431</td>\n",
       "      <td>1000</td>\n",
       "      <td>5</td>\n",
       "      <td>closed</td>\n",
       "      <td>864691135270095013</td>\n",
       "      <td>https://global.daf-apis.com/nglstate/api/v1/55...</td>\n",
       "      <td>None</td>\n",
       "      <td>None</td>\n",
       "      <td>0</td>\n",
       "    </tr>\n",
       "    <tr>\n",
       "      <th>65e225bdd4cc5f67dd8fb95a</th>\n",
       "      <td>True</td>\n",
       "      <td>dxenes1</td>\n",
       "      <td>dxenes1</td>\n",
       "      <td>2024-03-01 19:53:15.224</td>\n",
       "      <td>2024-03-01 19:00:13.453</td>\n",
       "      <td>{'prompt': 'Is the selected seg ID a multi-som...</td>\n",
       "      <td>{'nuclei': [208610, 276973, 208491, 176123, 37...</td>\n",
       "      <td>forcedChoiceExample</td>\n",
       "      <td>2024-03-01 19:53:10.424</td>\n",
       "      <td>1000</td>\n",
       "      <td>3</td>\n",
       "      <td>closed</td>\n",
       "      <td>864691135479319750</td>\n",
       "      <td>https://global.daf-apis.com/nglstate/api/v1/59...</td>\n",
       "      <td>None</td>\n",
       "      <td>None</td>\n",
       "      <td>0</td>\n",
       "    </tr>\n",
       "    <tr>\n",
       "      <th>65e225bdd4cc5f67dd8fb95d</th>\n",
       "      <td>True</td>\n",
       "      <td>dxenes1</td>\n",
       "      <td>dxenes1</td>\n",
       "      <td>2024-03-01 19:53:19.113</td>\n",
       "      <td>2024-03-01 19:00:13.672</td>\n",
       "      <td>{'prompt': 'Is the selected seg ID a multi-som...</td>\n",
       "      <td>{'nuclei': [608855, 608854, 611313, 642226], '...</td>\n",
       "      <td>forcedChoiceExample</td>\n",
       "      <td>2024-03-01 19:53:15.518</td>\n",
       "      <td>1000</td>\n",
       "      <td>2</td>\n",
       "      <td>closed</td>\n",
       "      <td>864691135888983689</td>\n",
       "      <td>https://global.daf-apis.com/nglstate/api/v1/67...</td>\n",
       "      <td>None</td>\n",
       "      <td>None</td>\n",
       "      <td>0</td>\n",
       "    </tr>\n",
       "    <tr>\n",
       "      <th>65e225bdd4cc5f67dd8fb960</th>\n",
       "      <td>True</td>\n",
       "      <td>dxenes1</td>\n",
       "      <td>dxenes1</td>\n",
       "      <td>2024-03-01 19:53:23.256</td>\n",
       "      <td>2024-03-01 19:00:13.868</td>\n",
       "      <td>{'prompt': 'Is the selected seg ID a multi-som...</td>\n",
       "      <td>{'nuclei': [592840, 495316, 594720, 497173], '...</td>\n",
       "      <td>forcedChoiceExample</td>\n",
       "      <td>2024-03-01 19:53:19.406</td>\n",
       "      <td>1000</td>\n",
       "      <td>2</td>\n",
       "      <td>closed</td>\n",
       "      <td>864691136974041116</td>\n",
       "      <td>https://global.daf-apis.com/nglstate/api/v1/57...</td>\n",
       "      <td>None</td>\n",
       "      <td>None</td>\n",
       "      <td>0</td>\n",
       "    </tr>\n",
       "  </tbody>\n",
       "</table>\n",
       "</div>"
      ],
      "text/plain": [
       "                          active assignee   author                  closed  \\\n",
       "_id                                                                          \n",
       "65e225bdd4cc5f67dd8fb954    True  dxenes1  dxenes1 2024-03-01 19:52:58.603   \n",
       "65e225bdd4cc5f67dd8fb957    True  dxenes1  dxenes1 2024-03-01 19:53:10.116   \n",
       "65e225bdd4cc5f67dd8fb95a    True  dxenes1  dxenes1 2024-03-01 19:53:15.224   \n",
       "65e225bdd4cc5f67dd8fb95d    True  dxenes1  dxenes1 2024-03-01 19:53:19.113   \n",
       "65e225bdd4cc5f67dd8fb960    True  dxenes1  dxenes1 2024-03-01 19:53:23.256   \n",
       "\n",
       "                                         created  \\\n",
       "_id                                                \n",
       "65e225bdd4cc5f67dd8fb954 2024-03-01 19:00:12.823   \n",
       "65e225bdd4cc5f67dd8fb957 2024-03-01 19:00:13.235   \n",
       "65e225bdd4cc5f67dd8fb95a 2024-03-01 19:00:13.453   \n",
       "65e225bdd4cc5f67dd8fb95d 2024-03-01 19:00:13.672   \n",
       "65e225bdd4cc5f67dd8fb960 2024-03-01 19:00:13.868   \n",
       "\n",
       "                                                               instructions  \\\n",
       "_id                                                                           \n",
       "65e225bdd4cc5f67dd8fb954  {'prompt': 'Is the selected seg ID a multi-som...   \n",
       "65e225bdd4cc5f67dd8fb957  {'prompt': 'Is the selected seg ID a multi-som...   \n",
       "65e225bdd4cc5f67dd8fb95a  {'prompt': 'Is the selected seg ID a multi-som...   \n",
       "65e225bdd4cc5f67dd8fb95d  {'prompt': 'Is the selected seg ID a multi-som...   \n",
       "65e225bdd4cc5f67dd8fb960  {'prompt': 'Is the selected seg ID a multi-som...   \n",
       "\n",
       "                                                                   metadata  \\\n",
       "_id                                                                           \n",
       "65e225bdd4cc5f67dd8fb954  {'nuclei': [531788, 525961, 528862, 528334, 52...   \n",
       "65e225bdd4cc5f67dd8fb957  {'nuclei': [198054, 198124, 198037, 198128, 19...   \n",
       "65e225bdd4cc5f67dd8fb95a  {'nuclei': [208610, 276973, 208491, 176123, 37...   \n",
       "65e225bdd4cc5f67dd8fb95d  {'nuclei': [608855, 608854, 611313, 642226], '...   \n",
       "65e225bdd4cc5f67dd8fb960  {'nuclei': [592840, 495316, 594720, 497173], '...   \n",
       "\n",
       "                                    namespace                  opened  \\\n",
       "_id                                                                     \n",
       "65e225bdd4cc5f67dd8fb954  forcedChoiceExample 2024-03-01 19:08:28.407   \n",
       "65e225bdd4cc5f67dd8fb957  forcedChoiceExample 2024-03-01 19:52:59.431   \n",
       "65e225bdd4cc5f67dd8fb95a  forcedChoiceExample 2024-03-01 19:53:10.424   \n",
       "65e225bdd4cc5f67dd8fb95d  forcedChoiceExample 2024-03-01 19:53:15.518   \n",
       "65e225bdd4cc5f67dd8fb960  forcedChoiceExample 2024-03-01 19:53:19.406   \n",
       "\n",
       "                          priority  duration  status              seg_id  \\\n",
       "_id                                                                        \n",
       "65e225bdd4cc5f67dd8fb954      1000        93  closed  864691135968943973   \n",
       "65e225bdd4cc5f67dd8fb957      1000         5  closed  864691135270095013   \n",
       "65e225bdd4cc5f67dd8fb95a      1000         3  closed  864691135479319750   \n",
       "65e225bdd4cc5f67dd8fb95d      1000         2  closed  864691135888983689   \n",
       "65e225bdd4cc5f67dd8fb960      1000         2  closed  864691136974041116   \n",
       "\n",
       "                                                                   ng_state  \\\n",
       "_id                                                                           \n",
       "65e225bdd4cc5f67dd8fb954  https://global.daf-apis.com/nglstate/api/v1/57...   \n",
       "65e225bdd4cc5f67dd8fb957  https://global.daf-apis.com/nglstate/api/v1/55...   \n",
       "65e225bdd4cc5f67dd8fb95a  https://global.daf-apis.com/nglstate/api/v1/59...   \n",
       "65e225bdd4cc5f67dd8fb95d  https://global.daf-apis.com/nglstate/api/v1/67...   \n",
       "65e225bdd4cc5f67dd8fb960  https://global.daf-apis.com/nglstate/api/v1/57...   \n",
       "\n",
       "                         points  tags  __v  \n",
       "_id                                         \n",
       "65e225bdd4cc5f67dd8fb954   None  None    0  \n",
       "65e225bdd4cc5f67dd8fb957   None  None    0  \n",
       "65e225bdd4cc5f67dd8fb95a   None  None    0  \n",
       "65e225bdd4cc5f67dd8fb95d   None  None    0  \n",
       "65e225bdd4cc5f67dd8fb960   None  None    0  "
      ]
     },
     "execution_count": 6,
     "metadata": {},
     "output_type": "execute_result"
    }
   ],
   "source": [
    "tasks.head()"
   ]
  },
  {
   "cell_type": "markdown",
   "id": "c9fa6b93-556f-48a0-a563-810365161a80",
   "metadata": {},
   "source": [
    "Lets say you only care about `metadata` since thats where the decision is stored. You can use the `select` kwarg to filter the query to only certain columns"
   ]
  },
  {
   "cell_type": "code",
   "execution_count": 7,
   "id": "c1f6f803-9192-4a37-b5d4-3255bc6baec8",
   "metadata": {},
   "outputs": [
    {
     "name": "stdout",
     "output_type": "stream",
     "text": [
      "0.9\n"
     ]
    }
   ],
   "source": [
    "start = time.time()\n",
    "tasks = client.get_tasks(sieve={\n",
    "    'assignee':'dxenes1',\n",
    "    'status':'closed',\n",
    "    'namespace':'forcedChoiceExample'\n",
    "}, select=['metadata'], convert_states_to_json=False)\n",
    "print(round(time.time() - start, 2))"
   ]
  },
  {
   "cell_type": "markdown",
   "id": "a11edb6e-4701-4b8f-9494-48c1d45b2b71",
   "metadata": {},
   "source": [
    "We can then add a column to grab decision out of metadata"
   ]
  },
  {
   "cell_type": "code",
   "execution_count": 8,
   "id": "2cf89e4f-dd6d-44c5-9b0b-0b9d91c27cf0",
   "metadata": {},
   "outputs": [],
   "source": [
    "tasks['decision'] = tasks['metadata'].apply(lambda x: x.get('decision'))"
   ]
  },
  {
   "cell_type": "code",
   "execution_count": 9,
   "id": "b46059dd-b335-485a-b1be-525586f06982",
   "metadata": {},
   "outputs": [
    {
     "data": {
      "text/plain": [
       "decision\n",
       "yes       7\n",
       "no        6\n",
       "unsure    3\n",
       "Name: count, dtype: int64"
      ]
     },
     "execution_count": 9,
     "metadata": {},
     "output_type": "execute_result"
    }
   ],
   "source": [
    "tasks['decision'].value_counts()"
   ]
  },
  {
   "cell_type": "markdown",
   "id": "57bfff50-77af-47f0-9f69-c632e1fceab5",
   "metadata": {},
   "source": [
    "Lets say we only wanted to get tasks after a certain datetime, we can do that with a datetime query in one of the dated columns: 'created', 'opened', and 'closed'. \n",
    "\n",
    "- created: time task was created\n",
    "- opened: time task was opened by a proofreader (gets reset if the proofreader skipped and was assigned to another)\n",
    "- closed: time task was closed by a proofreader\n",
    "\n",
    "You can query datetimes using MongoDB logical operators. `$gt` corresponds to greater than and `$lt` corresponds to less than"
   ]
  },
  {
   "cell_type": "code",
   "execution_count": 10,
   "id": "683088b6-bfbd-4bb4-b083-0ddbd0837ffd",
   "metadata": {},
   "outputs": [],
   "source": [
    "from datetime import datetime"
   ]
  },
  {
   "cell_type": "code",
   "execution_count": 11,
   "id": "e4a22c23-d42e-42f5-a786-e6802af6feff",
   "metadata": {},
   "outputs": [
    {
     "name": "stdout",
     "output_type": "stream",
     "text": [
      "0.57\n"
     ]
    }
   ],
   "source": [
    "start = time.time()\n",
    "tasks = client.get_tasks(sieve={\n",
    "    'assignee':'dxenes1',\n",
    "    'status':'closed',\n",
    "    'namespace':'forcedChoiceExample',\n",
    "    'closed':{\n",
    "        \"$gt\": datetime(2024, 2, 29)\n",
    "    }\n",
    "}, select=['metadata'], convert_states_to_json=False)\n",
    "print(round(time.time() - start, 2))"
   ]
  },
  {
   "cell_type": "code",
   "execution_count": 12,
   "id": "5fc0bf8f-abab-4f86-be32-d440082d0abb",
   "metadata": {},
   "outputs": [
    {
     "data": {
      "text/html": [
       "<div>\n",
       "<style scoped>\n",
       "    .dataframe tbody tr th:only-of-type {\n",
       "        vertical-align: middle;\n",
       "    }\n",
       "\n",
       "    .dataframe tbody tr th {\n",
       "        vertical-align: top;\n",
       "    }\n",
       "\n",
       "    .dataframe thead th {\n",
       "        text-align: right;\n",
       "    }\n",
       "</style>\n",
       "<table border=\"1\" class=\"dataframe\">\n",
       "  <thead>\n",
       "    <tr style=\"text-align: right;\">\n",
       "      <th></th>\n",
       "      <th>metadata</th>\n",
       "    </tr>\n",
       "    <tr>\n",
       "      <th>_id</th>\n",
       "      <th></th>\n",
       "    </tr>\n",
       "  </thead>\n",
       "  <tbody>\n",
       "    <tr>\n",
       "      <th>65e225bdd4cc5f67dd8fb954</th>\n",
       "      <td>{'nuclei': [531788, 525961, 528862, 528334, 52...</td>\n",
       "    </tr>\n",
       "    <tr>\n",
       "      <th>65e225bdd4cc5f67dd8fb957</th>\n",
       "      <td>{'nuclei': [198054, 198124, 198037, 198128, 19...</td>\n",
       "    </tr>\n",
       "    <tr>\n",
       "      <th>65e225bdd4cc5f67dd8fb95a</th>\n",
       "      <td>{'nuclei': [208610, 276973, 208491, 176123, 37...</td>\n",
       "    </tr>\n",
       "    <tr>\n",
       "      <th>65e225bdd4cc5f67dd8fb95d</th>\n",
       "      <td>{'nuclei': [608855, 608854, 611313, 642226], '...</td>\n",
       "    </tr>\n",
       "    <tr>\n",
       "      <th>65e225bdd4cc5f67dd8fb960</th>\n",
       "      <td>{'nuclei': [592840, 495316, 594720, 497173], '...</td>\n",
       "    </tr>\n",
       "    <tr>\n",
       "      <th>65e225bed4cc5f67dd8fb963</th>\n",
       "      <td>{'nuclei': [208627, 208571, 176130, 208524], '...</td>\n",
       "    </tr>\n",
       "    <tr>\n",
       "      <th>65e225bed4cc5f67dd8fb966</th>\n",
       "      <td>{'nuclei': [557416, 523216, 523790, 557479], '...</td>\n",
       "    </tr>\n",
       "    <tr>\n",
       "      <th>65e225bed4cc5f67dd8fb969</th>\n",
       "      <td>{'nuclei': [236847, 133203, 305448, 136670], '...</td>\n",
       "    </tr>\n",
       "    <tr>\n",
       "      <th>65e225bed4cc5f67dd8fb96c</th>\n",
       "      <td>{'nuclei': [136327, 177213, 140114], 'selected...</td>\n",
       "    </tr>\n",
       "    <tr>\n",
       "      <th>65e225bfd4cc5f67dd8fb96f</th>\n",
       "      <td>{'nuclei': [439291, 439345, 377674], 'selected...</td>\n",
       "    </tr>\n",
       "    <tr>\n",
       "      <th>65e225bfd4cc5f67dd8fb972</th>\n",
       "      <td>{'nuclei': [190399, 222667, 187273], 'selected...</td>\n",
       "    </tr>\n",
       "    <tr>\n",
       "      <th>65e225bfd4cc5f67dd8fb975</th>\n",
       "      <td>{'nuclei': [431100, 451790, 392629], 'selected...</td>\n",
       "    </tr>\n",
       "    <tr>\n",
       "      <th>65e225bfd4cc5f67dd8fb978</th>\n",
       "      <td>{'nuclei': [334813, 300766], 'selected_segment...</td>\n",
       "    </tr>\n",
       "    <tr>\n",
       "      <th>65e225bfd4cc5f67dd8fb97b</th>\n",
       "      <td>{'nuclei': [260277, 260523], 'selected_segment...</td>\n",
       "    </tr>\n",
       "    <tr>\n",
       "      <th>65e225c0d4cc5f67dd8fb97e</th>\n",
       "      <td>{'nuclei': [612311, 612301], 'selected_segment...</td>\n",
       "    </tr>\n",
       "    <tr>\n",
       "      <th>65e225c0d4cc5f67dd8fb981</th>\n",
       "      <td>{'nuclei': [209123, 209228], 'selected_segment...</td>\n",
       "    </tr>\n",
       "  </tbody>\n",
       "</table>\n",
       "</div>"
      ],
      "text/plain": [
       "                                                                   metadata\n",
       "_id                                                                        \n",
       "65e225bdd4cc5f67dd8fb954  {'nuclei': [531788, 525961, 528862, 528334, 52...\n",
       "65e225bdd4cc5f67dd8fb957  {'nuclei': [198054, 198124, 198037, 198128, 19...\n",
       "65e225bdd4cc5f67dd8fb95a  {'nuclei': [208610, 276973, 208491, 176123, 37...\n",
       "65e225bdd4cc5f67dd8fb95d  {'nuclei': [608855, 608854, 611313, 642226], '...\n",
       "65e225bdd4cc5f67dd8fb960  {'nuclei': [592840, 495316, 594720, 497173], '...\n",
       "65e225bed4cc5f67dd8fb963  {'nuclei': [208627, 208571, 176130, 208524], '...\n",
       "65e225bed4cc5f67dd8fb966  {'nuclei': [557416, 523216, 523790, 557479], '...\n",
       "65e225bed4cc5f67dd8fb969  {'nuclei': [236847, 133203, 305448, 136670], '...\n",
       "65e225bed4cc5f67dd8fb96c  {'nuclei': [136327, 177213, 140114], 'selected...\n",
       "65e225bfd4cc5f67dd8fb96f  {'nuclei': [439291, 439345, 377674], 'selected...\n",
       "65e225bfd4cc5f67dd8fb972  {'nuclei': [190399, 222667, 187273], 'selected...\n",
       "65e225bfd4cc5f67dd8fb975  {'nuclei': [431100, 451790, 392629], 'selected...\n",
       "65e225bfd4cc5f67dd8fb978  {'nuclei': [334813, 300766], 'selected_segment...\n",
       "65e225bfd4cc5f67dd8fb97b  {'nuclei': [260277, 260523], 'selected_segment...\n",
       "65e225c0d4cc5f67dd8fb97e  {'nuclei': [612311, 612301], 'selected_segment...\n",
       "65e225c0d4cc5f67dd8fb981  {'nuclei': [209123, 209228], 'selected_segment..."
      ]
     },
     "execution_count": 12,
     "metadata": {},
     "output_type": "execute_result"
    }
   ],
   "source": [
    "tasks"
   ]
  },
  {
   "cell_type": "code",
   "execution_count": null,
   "id": "9970e9b5-44bf-4474-9938-468ec5872193",
   "metadata": {},
   "outputs": [],
   "source": []
  }
 ],
 "metadata": {
  "kernelspec": {
   "display_name": "neuvue-manage",
   "language": "python",
   "name": "neuvue-manage"
  },
  "language_info": {
   "codemirror_mode": {
    "name": "ipython",
    "version": 3
   },
   "file_extension": ".py",
   "mimetype": "text/x-python",
   "name": "python",
   "nbconvert_exporter": "python",
   "pygments_lexer": "ipython3",
   "version": "3.11.6"
  }
 },
 "nbformat": 4,
 "nbformat_minor": 5
}
