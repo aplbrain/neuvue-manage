{
 "cells": [
  {
   "cell_type": "code",
   "execution_count": 1,
   "id": "46d45083",
   "metadata": {},
   "outputs": [],
   "source": [
    "from pathlib import Path\n",
    "import json\n",
    "import sys\n",
    "\n",
    "from neuvueclient import NeuvueQueue\n",
    "import pandas as pd\n",
    "import numpy as np\n",
    "from joblib import Parallel, delayed\n",
    "\n",
    "sys.path.append(str(Path.cwd().parents[1]))\n",
    "from utils.constants import NEUVUE_QUEUE_URL"
   ]
  },
  {
   "cell_type": "code",
   "execution_count": 2,
   "id": "c4768aa0",
   "metadata": {},
   "outputs": [
    {
     "name": "stdout",
     "output_type": "stream",
     "text": [
      "Auth method: Config File\n"
     ]
    }
   ],
   "source": [
    "client = NeuvueQueue(NEUVUE_QUEUE_URL)"
   ]
  },
  {
   "cell_type": "markdown",
   "id": "c81e2106-ce30-4335-bb5d-f2ac1061917f",
   "metadata": {},
   "source": [
    "## Generic Forced Choice Task\n",
    "\n",
    "Task type for a forced choice task."
   ]
  },
  {
   "cell_type": "code",
   "execution_count": 3,
   "id": "65e6ebf9",
   "metadata": {},
   "outputs": [],
   "source": [
    "# Change these as needed\n",
    "AUTHOR = \"dxenes1\"\n",
    "NAMESPACE = \"forcedChoiceExample\"\n",
    "ASSIGNEES = [\"unassigned_novice\"]\n",
    "INSTRUCTIONS = {\"prompt\": \"Is the selected seg ID a multi-soma? (two valid neurons merged together)\"}\n"
   ]
  },
  {
   "cell_type": "markdown",
   "id": "152e7c48-c74d-4fdf-bb07-a1e8d9ae4fbb",
   "metadata": {},
   "source": [
    "### Grab the necessary input data, in this case we are just using the nucleus detection table."
   ]
  },
  {
   "cell_type": "code",
   "execution_count": 4,
   "id": "a1ae1dc0-ab54-4b45-acbc-4ef812b42db3",
   "metadata": {},
   "outputs": [],
   "source": [
    "from caveclient import CAVEclient\n",
    "cave = CAVEclient('minnie65_phase3_v1')"
   ]
  },
  {
   "cell_type": "code",
   "execution_count": 5,
   "id": "6bd2a43a-42ee-4678-8ace-71e045f0978d",
   "metadata": {},
   "outputs": [
    {
     "name": "stderr",
     "output_type": "stream",
     "text": [
      "Table Owner Notice on nucleus_neuron_svm: Please cite https://doi.org/10.1101/2022.07.20.499976 when using this table.\n"
     ]
    }
   ],
   "source": [
    "nucleus_neuron_svm = cave.materialize.query_table('nucleus_neuron_svm')\n",
    "nucleus_neuron_svm['pt_position_8nm'] = nucleus_neuron_svm['pt_position'].apply(lambda x: np.array(x) // np.array([2,2,1])) "
   ]
  },
  {
   "cell_type": "code",
   "execution_count": 6,
   "id": "c34f138a-4f70-4470-a942-a4435d618c23",
   "metadata": {},
   "outputs": [],
   "source": [
    "# Filter only neurons and get multi-soma neurons by using value counts on the root IDs\n",
    "neuron_nuclei = nucleus_neuron_svm[nucleus_neuron_svm['cell_type'] == 'neuron']\n",
    "multi_soma_neurons = neuron_nuclei['pt_root_id'].value_counts()[neuron_nuclei['pt_root_id'].value_counts() >= 2]\n",
    "\n",
    "# Remove seg ID 0 and 864691135763133238 (the MOAME - mother of all merge errors)\n",
    "multi_soma_neurons.drop([0, 864691135763133238], inplace=True)\n",
    "\n"
   ]
  },
  {
   "cell_type": "markdown",
   "id": "0b94cce2-545d-40d7-8e88-fa852937ddb3",
   "metadata": {},
   "source": [
    "### Create task dataframe to more easily create and assign tasks."
   ]
  },
  {
   "cell_type": "code",
   "execution_count": 7,
   "id": "b93b639c-e511-4971-a033-a4a1a5abedbc",
   "metadata": {},
   "outputs": [],
   "source": [
    "task_rows = []\n",
    "for root_id in multi_soma_neurons.index.unique():\n",
    "    nuclei_subset = neuron_nuclei[neuron_nuclei['pt_root_id']==root_id]\n",
    "    row = {}\n",
    "    row['pt_root_id'] = root_id\n",
    "    row['proofreaders'] = ASSIGNEES\n",
    "    row['metadata'] = {'nuclei': nuclei_subset['id'].tolist()}\n",
    "    row['pt_position'] = nuclei_subset.iloc[0].pt_position_8nm\n",
    "    row['annos'] = nuclei_subset['pt_position_8nm'].tolist()\n",
    "    row['instructions'] = INSTRUCTIONS\n",
    "    task_rows.append(row)\n",
    "    \n",
    "task_df = pd.DataFrame(task_rows)"
   ]
  },
  {
   "cell_type": "code",
   "execution_count": 8,
   "id": "62f8b086-18ac-48e3-90b5-708dbd79b07e",
   "metadata": {},
   "outputs": [
    {
     "data": {
      "text/html": [
       "<div>\n",
       "<style scoped>\n",
       "    .dataframe tbody tr th:only-of-type {\n",
       "        vertical-align: middle;\n",
       "    }\n",
       "\n",
       "    .dataframe tbody tr th {\n",
       "        vertical-align: top;\n",
       "    }\n",
       "\n",
       "    .dataframe thead th {\n",
       "        text-align: right;\n",
       "    }\n",
       "</style>\n",
       "<table border=\"1\" class=\"dataframe\">\n",
       "  <thead>\n",
       "    <tr style=\"text-align: right;\">\n",
       "      <th></th>\n",
       "      <th>pt_root_id</th>\n",
       "      <th>proofreaders</th>\n",
       "      <th>metadata</th>\n",
       "      <th>pt_position</th>\n",
       "      <th>annos</th>\n",
       "      <th>instructions</th>\n",
       "    </tr>\n",
       "  </thead>\n",
       "  <tbody>\n",
       "    <tr>\n",
       "      <th>0</th>\n",
       "      <td>864691135968943973</td>\n",
       "      <td>[unassigned_novice]</td>\n",
       "      <td>{'nuclei': [531788, 525961, 528862, 528334, 52...</td>\n",
       "      <td>[150720, 105976, 15961]</td>\n",
       "      <td>[[150720, 105976, 15961], [152784, 96480, 1492...</td>\n",
       "      <td>{'prompt': 'Is the selected seg ID a multi-som...</td>\n",
       "    </tr>\n",
       "    <tr>\n",
       "      <th>1</th>\n",
       "      <td>864691135270095013</td>\n",
       "      <td>[unassigned_novice]</td>\n",
       "      <td>{'nuclei': [198054, 198124, 198037, 198128, 19...</td>\n",
       "      <td>[68304, 91832, 27724]</td>\n",
       "      <td>[[68304, 91832, 27724], [70448, 94480, 27295],...</td>\n",
       "      <td>{'prompt': 'Is the selected seg ID a multi-som...</td>\n",
       "    </tr>\n",
       "    <tr>\n",
       "      <th>2</th>\n",
       "      <td>864691135479319750</td>\n",
       "      <td>[unassigned_novice]</td>\n",
       "      <td>{'nuclei': [208610, 276973, 208491, 176123, 37...</td>\n",
       "      <td>[71696, 131048, 26468]</td>\n",
       "      <td>[[71696, 131048, 26468], [82080, 132248, 26741...</td>\n",
       "      <td>{'prompt': 'Is the selected seg ID a multi-som...</td>\n",
       "    </tr>\n",
       "    <tr>\n",
       "      <th>3</th>\n",
       "      <td>864691135888983689</td>\n",
       "      <td>[unassigned_novice]</td>\n",
       "      <td>{'nuclei': [608855, 608854, 611313, 642226]}</td>\n",
       "      <td>[177280, 51616, 25484]</td>\n",
       "      <td>[[177280, 51616, 25484], [177000, 54856, 25556...</td>\n",
       "      <td>{'prompt': 'Is the selected seg ID a multi-som...</td>\n",
       "    </tr>\n",
       "    <tr>\n",
       "      <th>4</th>\n",
       "      <td>864691136974041116</td>\n",
       "      <td>[unassigned_novice]</td>\n",
       "      <td>{'nuclei': [592840, 495316, 594720, 497173]}</td>\n",
       "      <td>[164848, 108232, 21331]</td>\n",
       "      <td>[[164848, 108232, 21331], [146232, 96216, 2160...</td>\n",
       "      <td>{'prompt': 'Is the selected seg ID a multi-som...</td>\n",
       "    </tr>\n",
       "  </tbody>\n",
       "</table>\n",
       "</div>"
      ],
      "text/plain": [
       "           pt_root_id         proofreaders  \\\n",
       "0  864691135968943973  [unassigned_novice]   \n",
       "1  864691135270095013  [unassigned_novice]   \n",
       "2  864691135479319750  [unassigned_novice]   \n",
       "3  864691135888983689  [unassigned_novice]   \n",
       "4  864691136974041116  [unassigned_novice]   \n",
       "\n",
       "                                            metadata              pt_position  \\\n",
       "0  {'nuclei': [531788, 525961, 528862, 528334, 52...  [150720, 105976, 15961]   \n",
       "1  {'nuclei': [198054, 198124, 198037, 198128, 19...    [68304, 91832, 27724]   \n",
       "2  {'nuclei': [208610, 276973, 208491, 176123, 37...   [71696, 131048, 26468]   \n",
       "3       {'nuclei': [608855, 608854, 611313, 642226]}   [177280, 51616, 25484]   \n",
       "4       {'nuclei': [592840, 495316, 594720, 497173]}  [164848, 108232, 21331]   \n",
       "\n",
       "                                               annos  \\\n",
       "0  [[150720, 105976, 15961], [152784, 96480, 1492...   \n",
       "1  [[68304, 91832, 27724], [70448, 94480, 27295],...   \n",
       "2  [[71696, 131048, 26468], [82080, 132248, 26741...   \n",
       "3  [[177280, 51616, 25484], [177000, 54856, 25556...   \n",
       "4  [[164848, 108232, 21331], [146232, 96216, 2160...   \n",
       "\n",
       "                                        instructions  \n",
       "0  {'prompt': 'Is the selected seg ID a multi-som...  \n",
       "1  {'prompt': 'Is the selected seg ID a multi-som...  \n",
       "2  {'prompt': 'Is the selected seg ID a multi-som...  \n",
       "3  {'prompt': 'Is the selected seg ID a multi-som...  \n",
       "4  {'prompt': 'Is the selected seg ID a multi-som...  "
      ]
     },
     "execution_count": 8,
     "metadata": {},
     "output_type": "execute_result"
    }
   ],
   "source": [
    "task_df.head()"
   ]
  },
  {
   "cell_type": "markdown",
   "id": "20515b0b-ba01-4f04-8127-a2815e4cc34c",
   "metadata": {},
   "source": [
    "### We use a function in ng_utils.py to parse this dataframe and create custom neuroglancer states for each task."
   ]
  },
  {
   "cell_type": "code",
   "execution_count": 9,
   "id": "8f3d1757-4b9c-4bf7-a81b-84ff07d9444f",
   "metadata": {},
   "outputs": [
    {
     "name": "stderr",
     "output_type": "stream",
     "text": [
      "/Users/xenesd1/Projects/MICrONS/neuvue-manage/venv/lib/python3.11/site-packages/tqdm/auto.py:21: TqdmWarning: IProgress not found. Please update jupyter and ipywidgets. See https://ipywidgets.readthedocs.io/en/stable/user_install.html\n",
      "  from .autonotebook import tqdm as notebook_tqdm\n"
     ]
    }
   ],
   "source": [
    "from utils.ng_state_utils import add_basic_ng_states_with_anno_layer_and_points_to_df\n",
    "add_basic_ng_states_with_anno_layer_and_points_to_df(task_df)"
   ]
  },
  {
   "cell_type": "markdown",
   "id": "f3c6dbe3-39dd-4f42-90d9-2e4f4bb0e116",
   "metadata": {},
   "source": [
    "### We finally upload the tasks using another convenience function which reads in the data frame and creates the tasks sequentially.\n",
    "\n",
    "The NeuVue client will automatically upload JSON state strings to the JSON state server as its creating the tasks. "
   ]
  },
  {
   "cell_type": "code",
   "execution_count": 10,
   "id": "9c53bd5d-a246-4033-a9d5-84e2545176e0",
   "metadata": {},
   "outputs": [
    {
     "name": "stderr",
     "output_type": "stream",
     "text": [
      "41it [00:12,  3.30it/s]"
     ]
    },
    {
     "name": "stdout",
     "output_type": "stream",
     "text": [
      "Done\n"
     ]
    },
    {
     "name": "stderr",
     "output_type": "stream",
     "text": [
      "\n"
     ]
    }
   ],
   "source": [
    "from utils.post_tasks_utils import post_tasks_from_state_and_proofreader_df\n",
    "post_tasks_from_state_and_proofreader_df(\n",
    "    neuvue_client=client, \n",
    "    state_df=task_df, \n",
    "    author=AUTHOR, \n",
    "    namespace=NAMESPACE\n",
    ")\n",
    "print(\"Done\")"
   ]
  },
  {
   "cell_type": "markdown",
   "id": "1843048b-9d4e-474a-bf4e-937f31ea9729",
   "metadata": {},
   "source": [
    "## Delete all tasks\n",
    "If something went wrong you can use this snippet to delete all tasks from this namespace"
   ]
  },
  {
   "cell_type": "code",
   "execution_count": 11,
   "id": "83e8fd79-94cb-4026-a5dc-af5af5093a72",
   "metadata": {},
   "outputs": [],
   "source": [
    "# tasks = client.get_tasks(sieve={'namespace': NAMESPACE, 'assignee': ASSIGNEES}, select=['_id'])\n",
    "# for _id in tasks.index:\n",
    "#     client.delete_task(_id)"
   ]
  }
 ],
 "metadata": {
  "kernelspec": {
   "display_name": "neuvue-manage",
   "language": "python",
   "name": "neuvue-manage"
  },
  "language_info": {
   "codemirror_mode": {
    "name": "ipython",
    "version": 3
   },
   "file_extension": ".py",
   "mimetype": "text/x-python",
   "name": "python",
   "nbconvert_exporter": "python",
   "pygments_lexer": "ipython3",
   "version": "3.11.6"
  }
 },
 "nbformat": 4,
 "nbformat_minor": 5
}
