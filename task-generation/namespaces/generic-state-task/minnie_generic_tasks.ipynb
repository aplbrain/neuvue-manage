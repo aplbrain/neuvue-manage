{
 "cells": [
  {
   "cell_type": "code",
   "execution_count": null,
   "id": "46d45083",
   "metadata": {},
   "outputs": [],
   "source": [
    "from pathlib import Path\n",
    "import json\n",
    "import sys\n",
    "\n",
    "from neuvueclient import NeuvueQueue\n",
    "import pandas as pd\n",
    "import numpy as np\n",
    "from joblib import Parallel, delayed\n",
    "\n",
    "sys.path.append(str(Path.cwd().parents[1]))\n",
    "from utils.constants import NEUVUE_QUEUE_URL"
   ]
  },
  {
   "cell_type": "code",
   "execution_count": null,
   "id": "c4768aa0",
   "metadata": {},
   "outputs": [],
   "source": [
    "client = NeuvueQueue(NEUVUE_QUEUE_URL)"
   ]
  },
  {
   "cell_type": "markdown",
   "id": "c81e2106-ce30-4335-bb5d-f2ac1061917f",
   "metadata": {},
   "source": [
    "## Generic State Task\n",
    "\n",
    "Task type for any arbitrary state. Default submission method recommended. "
   ]
  },
  {
   "cell_type": "code",
   "execution_count": null,
   "id": "65e6ebf9",
   "metadata": {},
   "outputs": [],
   "source": [
    "# Change these as needed\n",
    "AUTHOR = \"dxenes1\"\n",
    "NAMESPACE = \"micronsTest\"\n",
    "ASSIGNEES = [\"unassigned_novice\"]\n",
    "INSTRUCTIONS = {\"prompt\": \"Tasks for testing purposes only.\"}\n",
    "\n",
    "NUM_TASKS = 200\n"
   ]
  },
  {
   "cell_type": "markdown",
   "id": "82398908-0834-423b-a256-d46014823ed9",
   "metadata": {},
   "source": [
    "JSON State URL recommended for large batches of tasks. "
   ]
  },
  {
   "cell_type": "code",
   "execution_count": null,
   "id": "59c044b9",
   "metadata": {},
   "outputs": [],
   "source": [
    "state_link = \"https://global.daf-apis.com/nglstate/api/v1/6040894104928256\""
   ]
  },
  {
   "cell_type": "code",
   "execution_count": null,
   "id": "173b77b5",
   "metadata": {},
   "outputs": [],
   "source": [
    "\n",
    "def post_generic_task():\n",
    "    client.post_task_broadcast(\n",
    "        author=AUTHOR,\n",
    "        assignees=ASSIGNEES,\n",
    "        instructions=INSTRUCTIONS,\n",
    "        namespace=NAMESPACE,\n",
    "        ng_state=state_link,\n",
    "        priority=1000\n",
    "    )"
   ]
  },
  {
   "cell_type": "code",
   "execution_count": null,
   "id": "f244e74f",
   "metadata": {},
   "outputs": [],
   "source": [
    "Parallel(n_jobs=10)(delayed(post_generic_task)() for i in range(NUM_TASKS))\n",
    "print(\"Done.\")"
   ]
  }
 ],
 "metadata": {
  "kernelspec": {
   "display_name": "neuvue-manage",
   "language": "python",
   "name": "neuvue-manage"
  },
  "language_info": {
   "codemirror_mode": {
    "name": "ipython",
    "version": 3
   },
   "file_extension": ".py",
   "mimetype": "text/x-python",
   "name": "python",
   "nbconvert_exporter": "python",
   "pygments_lexer": "ipython3",
   "version": "3.11.6"
  }
 },
 "nbformat": 4,
 "nbformat_minor": 5
}
